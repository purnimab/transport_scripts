{
 "cells": [
  {
   "cell_type": "code",
   "execution_count": null,
   "metadata": {},
   "outputs": [],
   "source": [
    "import numpy as np\n",
    "import matplotlib.pyplot as plt\n",
    "from transport_scripts import VDP\n",
    "from scipy.interpolate import interp1d"
   ]
  },
  {
   "cell_type": "code",
   "execution_count": null,
   "metadata": {},
   "outputs": [],
   "source": [
    "filename = 'ppbcro54A-RvsT-NV-20190627-0Oe-LinFitPy.txt'\n",
    "temperature, field, R_VDPA, R_VDPB, R_HallA, R_HallB = VDP.readNVLinFitResfile(filename)"
   ]
  },
  {
   "cell_type": "code",
   "execution_count": null,
   "metadata": {},
   "outputs": [],
   "source": [
    "tslice = slice(None,None)\n",
    "%matplotlib notebook\n",
    "plt.plot(temperature,R_VDPA,'.')\n",
    "plt.plot(temperature,R_VDPB,'.')\n",
    "plt.plot(temperature,R_HallA,'.')\n",
    "plt.plot(temperature,R_HallB,'.')"
   ]
  },
  {
   "cell_type": "code",
   "execution_count": null,
   "metadata": {},
   "outputs": [],
   "source": [
    "RS = VDP.vdp(R_VDPA,R_VDPB)\n",
    "%matplotlib notebook\n",
    "plt.plot(temperature[tslice],RS[tslice],'.')\n",
    "plt.xlabel('Temperature (K)')\n",
    "plt.ylabel(r'Sheet Resistance ($\\Omega$/square)')"
   ]
  },
  {
   "cell_type": "code",
   "execution_count": null,
   "metadata": {},
   "outputs": [],
   "source": [
    "RTRS = VDP.roomtemp(temperature,RS)\n",
    "print RTRS"
   ]
  },
  {
   "cell_type": "code",
   "execution_count": null,
   "metadata": {},
   "outputs": [],
   "source": [
    "RH_ave = (R_HallA - R_HallB)/2.\n",
    "%matplotlib notebook\n",
    "plt.plot(temperature,RH_ave,'.')"
   ]
  },
  {
   "cell_type": "code",
   "execution_count": null,
   "metadata": {},
   "outputs": [],
   "source": [
    "filenameh = 'ppbcro54A-RvsT-NV-20190627-90000Oe-LinFitPy.txt'\n",
    "temperatureh, fieldh, R_VDPAh, R_VDPBh, R_HallAh, R_HallBh = VDP.readNVLinFitResfile(filenameh)"
   ]
  },
  {
   "cell_type": "code",
   "execution_count": null,
   "metadata": {},
   "outputs": [],
   "source": [
    "%matplotlib notebook\n",
    "plt.plot(temperatureh,R_VDPAh,'.')\n",
    "plt.plot(temperatureh,R_VDPBh,'.')\n",
    "plt.plot(temperatureh,R_HallAh,'.')\n",
    "plt.plot(temperatureh,R_HallBh,'.')"
   ]
  },
  {
   "cell_type": "code",
   "execution_count": null,
   "metadata": {},
   "outputs": [],
   "source": [
    "RH_h = (R_HallAh - R_HallBh)/2.\n",
    "%matplotlib notebook\n",
    "plt.plot(temperature,RH_ave,'.')\n",
    "plt.plot(temperatureh,RH_h,'.')"
   ]
  },
  {
   "cell_type": "code",
   "execution_count": null,
   "metadata": {},
   "outputs": [],
   "source": [
    "print temperature\n",
    "print temperatureh"
   ]
  },
  {
   "cell_type": "code",
   "execution_count": null,
   "metadata": {},
   "outputs": [],
   "source": [
    "hslice = slice(None,None)\n",
    "RHallh = interp1d(temperatureh[:], RH_h[:])\n",
    "RHAveH = RHallh(temperature[hslice])"
   ]
  },
  {
   "cell_type": "code",
   "execution_count": null,
   "metadata": {},
   "outputs": [],
   "source": [
    "%matplotlib notebook\n",
    "plt.plot(temperature, RH_ave,'.')\n",
    "plt.plot(temperature[hslice],RHAveH,'.')"
   ]
  },
  {
   "cell_type": "code",
   "execution_count": null,
   "metadata": {},
   "outputs": [],
   "source": [
    "field"
   ]
  },
  {
   "cell_type": "code",
   "execution_count": null,
   "metadata": {},
   "outputs": [],
   "source": [
    "RH = (RHAveH - RH_ave[hslice])/(np.mean(fieldh) - np.mean(field))"
   ]
  },
  {
   "cell_type": "code",
   "execution_count": null,
   "metadata": {},
   "outputs": [],
   "source": [
    "%matplotlib notebook\n",
    "plt.plot(temperature[hslice],RH,'.')"
   ]
  },
  {
   "cell_type": "code",
   "execution_count": null,
   "metadata": {},
   "outputs": [],
   "source": [
    "e = 1.60217662e-19 #C\n",
    "nt = -1e-8/(e*RH) #/cm^2\n",
    "%matplotlib notebook\n",
    "plt.plot(temperature[hslice],nt,'.')\n",
    "plt.xlabel('Temperature (K)')\n",
    "plt.ylabel(r'Carrier Concentration (e/cm$^2$)')"
   ]
  },
  {
   "cell_type": "code",
   "execution_count": null,
   "metadata": {},
   "outputs": [],
   "source": [
    "mu = 1./(e*np.absolute(nt)*RS[hslice])\n",
    "%matplotlib notebook\n",
    "plt.plot(temperature[hslice],mu,'.')\n",
    "plt.xlabel('Temperature (K)')\n",
    "plt.ylabel(r'Mobility (cm$^2$/Vs)')"
   ]
  },
  {
   "cell_type": "code",
   "execution_count": null,
   "metadata": {},
   "outputs": [],
   "source": [
    "outfile = 'ppbcro54A-NVDyn-20190627-RvsT'\n",
    "np.savez(outfile, tempR = temperature[tslice], VDPA=R_VDPA[tslice], VDPB=R_VDPB[tslice], SheetRes=RS[tslice], RTSheetRes=RTRS,\n",
    "         tempH = temperature[hslice], fieldlow=field[hslice], fieldhigh = fieldh, HallA=R_HallA[hslice],\n",
    "         HallB=R_HallB[hslice], RHall_avg_low=RH_ave[hslice], RHall_avg_high = RHAveH, CarrConc2D = nt, mobility = mu)"
   ]
  },
  {
   "cell_type": "code",
   "execution_count": null,
   "metadata": {},
   "outputs": [],
   "source": [
    "np.max(mu)"
   ]
  },
  {
   "cell_type": "code",
   "execution_count": null,
   "metadata": {},
   "outputs": [],
   "source": [
    "RTn = VDP.roomtemp(temperature[hslice],nt)\n",
    "print RTn"
   ]
  },
  {
   "cell_type": "code",
   "execution_count": null,
   "metadata": {},
   "outputs": [],
   "source": []
  }
 ],
 "metadata": {
  "kernelspec": {
   "display_name": "Python 2",
   "language": "python",
   "name": "python2"
  },
  "language_info": {
   "codemirror_mode": {
    "name": "ipython",
    "version": 2
   },
   "file_extension": ".py",
   "mimetype": "text/x-python",
   "name": "python",
   "nbconvert_exporter": "python",
   "pygments_lexer": "ipython2",
   "version": "2.7.16"
  }
 },
 "nbformat": 4,
 "nbformat_minor": 2
}
